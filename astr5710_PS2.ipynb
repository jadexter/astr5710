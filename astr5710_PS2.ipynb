{
 "cells": [
  {
   "cell_type": "code",
   "execution_count": null,
   "metadata": {
    "scrolled": false
   },
   "outputs": [],
   "source": [
    "%matplotlib inline\n",
    "import matplotlib.pyplot as plt\n",
    "import numpy as np\n",
    "from astropy.io import ascii\n",
    "import matplotlib.image as mpimg"
   ]
  },
  {
   "cell_type": "markdown",
   "metadata": {},
   "source": [
    "# Problem Set 2: Accretion"
   ]
  },
  {
   "cell_type": "markdown",
   "metadata": {},
   "source": [
    "## Problem 1 -- radiation from spherical accretion\n",
    "\n",
    "In this problem, we will calculate the radiation produced by the spherical, transonic accretion flows discussed in class."
   ]
  },
  {
   "cell_type": "markdown",
   "metadata": {},
   "source": [
    "### a) Scalings of density and temperature\n",
    "\n",
    "Consider a spherical accretion flow onto a central object of mass $M$ which originates in an ambient medium of pure hydrogen with particle density $n_\\infty$ and temperature $T_\\infty$ described by a polytropic equation of state with $\\Gamma = 5/3$. In this case, the Bondi accretion constant $\\lambda_S = 1/4$.\n",
    "\n",
    "Close to the central object, the velocity approaches the free-fall speed, $$v \\approx \\sqrt{\\frac{2GM}{r}}.$$\n",
    "\n",
    "In this limit, use i) continuity equation and ii) the equation of state to write the particle density $n$ and temperature $T$ as functions of radius, in terms of their ambient values $n_\\infty$ and $T_\\infty$ and the Bondi radius $r_B = GM/c_{s, \\infty}^2$, with $c_{s, \\infty}^2 = dP/d\\rho = \\Gamma P/\\rho$ the ambient sound speed."
   ]
  },
  {
   "cell_type": "code",
   "execution_count": null,
   "metadata": {},
   "outputs": [],
   "source": []
  },
  {
   "cell_type": "markdown",
   "metadata": {},
   "source": [
    "### b) Bremsstrahlung \n",
    "\n",
    "The frequency-integrated Bremsstrahlung emissivity is $$ j_{\\rm br} \\simeq 1.4 \\times 10^{-26} \\, n^2 \\,  T^{1/2} \\, \\rm erg \\, \\rm cm^{-3} s^{-1} \\, \\rm ster^{-1},$$\n",
    "\n",
    "where $n$ and $T$ are in cgs units. Using your results from above, how does the integrated emissivity scale with radius? \n",
    "\n",
    "Assuming that the emission is optically thin and isotropic, we showed in PS1 that the luminosity is the total emissivity integrated over the radiating volume: $$L_{\\rm bol} = \\int dV 4\\pi j(n,T).$$\n",
    "\n",
    "For the case of accretion onto a black hole of $M = 5 M_{\\rm Sun}$ with an inner edge (event horizon) at $R_S = 2GM/c^2$ from the hot interstellar medium, $n_\\infty = 1$ cm$^{-3}$ and $T_\\infty = 10^4$ K, make a plot of the integrand, $dL/dr$, as a function of radius. Where does most of the luminosity originate? (Note that we are ignoring relativistic effects here, which become very important near the inner edge!)\n",
    "\n",
    "Carry out the integral (analytically or numerically) to get the total bolometric luminosity radiated by bremsstrahlung in our spherical accretion flow."
   ]
  },
  {
   "cell_type": "code",
   "execution_count": null,
   "metadata": {},
   "outputs": [],
   "source": []
  },
  {
   "cell_type": "markdown",
   "metadata": {},
   "source": [
    "### c) Synchrotron radiation\n",
    "\n",
    "Ionized gas in the Universe conducts magnetic fields. The strength of the magnetic fields is often defined using the ratio of gas to magnetic pressure, $\\beta \\equiv 8\\pi p_{\\rm gas} / B^2$, where $B$ is the magnetic field strength and $p_{\\rm gas} = n k T$ is the gas pressure. For the turbulent, hot ISM, $\\beta \\sim 1$.\n",
    "\n",
    "Using the frequency-integrated synchrotron emissivity for a thermal distribution of electrons, $$j_S \\simeq 2.8 \\times 10^{-35} n B^2 T^2  \\, \\rm erg \\, \\rm cm^{-3} s^{-1} \\, \\rm ster^{-1},$$ with $n$, $B$, and $T$ in cgs units, plot the ratio of synchrotron to bremsstrahlung differential luminosities $dL/dr$ as a function of radius.\n",
    "\n",
    "Calculate the integrated synchrotron luminosity as for bremsstrahlung above. Which radiative process is more important?"
   ]
  },
  {
   "cell_type": "code",
   "execution_count": null,
   "metadata": {},
   "outputs": [],
   "source": []
  },
  {
   "cell_type": "markdown",
   "metadata": {},
   "source": [
    "### d) Inverse Compton scattering\n",
    "\n",
    "Calculate the scattering optical depth at an impact parameter $b=0$ through the accretion flow, and the Compton y-parameter associated with radiation near the inner edge. Explain in words what this means for the impact of inverse Compton scattering on the spectrum, and its likely observational outcome."
   ]
  },
  {
   "cell_type": "code",
   "execution_count": null,
   "metadata": {},
   "outputs": [],
   "source": []
  },
  {
   "cell_type": "markdown",
   "metadata": {},
   "source": [
    "### e) Radiative efficiency and observability\n",
    "\n",
    "Calculate the radiative efficiency $\\epsilon = L/\\dot{M} c^2$, assuming $\\dot{M} = \\dot{M}_{\\rm Bondi}$ and $L = L_S$ the luminosity from synchrotron radiation. \n",
    "\n",
    "Using your results for the total luminosity above, do you think it might be feasible to detect isolated black holes by the radiation produced by Bondi accretion from the interstellar medium? Why or why not?"
   ]
  },
  {
   "cell_type": "code",
   "execution_count": null,
   "metadata": {},
   "outputs": [],
   "source": []
  },
  {
   "cell_type": "markdown",
   "metadata": {},
   "source": [
    "## Problem 2 -- what does it mean for an accretion disk to be \"thin\"?\n",
    "\n",
    "In the thin disk approximation of accretion theory, we decouple the vertical and radial components of the force of gravity on a fluid element in the disk. The vertical hydrostatic equilibrium equation is then (assuming no net vertical motion):\n",
    "\n",
    "$$\\frac{dP}{dz} = -\\frac{GM\\rho}{R^2} \\frac{z}{R},$$\n",
    "\n",
    "where $P$ is the pressure, $R$ is the cylindrical radius, and $z$ is the height."
   ]
  },
  {
   "cell_type": "markdown",
   "metadata": {},
   "source": [
    "### a) Scale height\n",
    "\n",
    "By averaging both sides of the vertical hydrostatic equilibrium equation from a height $z = 0$ to $z = H$ (so the derivative $dP/dz \\approx \\Delta P / H$), write an expression for the scale height (relative disk thickness) $H/R$."
   ]
  },
  {
   "cell_type": "code",
   "execution_count": null,
   "metadata": {},
   "outputs": [],
   "source": []
  },
  {
   "cell_type": "markdown",
   "metadata": {},
   "source": [
    "### b) Temperature\n",
    "\n",
    "Assuming that the disk is supported vertically by gas pressure $P = n k T$, and using a polytropic equation of state $P = K \\rho^\\Gamma$ with constant index $\\Gamma$, derive an equation for the vertically averaged gas temperature as a function of cylindrical radius and scale height.\n",
    "\n",
    "For black holes, a characteristic length scale is the gravitational radius, $r_g = GM/c^2$. Re-write your equation in terms of a dimensionless distance $R / r_g$.\n",
    "\n",
    "A typical interior temperature of an accretion disk around a stellar mass black hole or neutron star is $\\simeq 10^7$ K. Approximately what is the scale height of such a disk?\n",
    "\n",
    "A similar derivation for a spherical star results in a typical interior (\"virial\") temperature of $$k T_{\\rm vir} \\simeq \\frac{3 GM m_p}{10 R_*},$$ with $R_*$ the stellar radius. How does the result change when considering a thin disk?"
   ]
  },
  {
   "cell_type": "code",
   "execution_count": null,
   "metadata": {},
   "outputs": [],
   "source": []
  },
  {
   "cell_type": "markdown",
   "metadata": {},
   "source": [
    "### c) Sound speed\n",
    "\n",
    "Using the definition of the sound speed and with the same equation of state as in problem 1, write an equation for the disk scale height in terms of the sound speed $c_s$ and the circular orbital frequency around a point mass $M$, $\\Omega^2 = GM/R^3$.\n",
    "\n",
    "Using your results to parts b and c, explain in words what it means for a disk to be geometrically thin ($H/R \\ll 1$)."
   ]
  },
  {
   "cell_type": "code",
   "execution_count": null,
   "metadata": {},
   "outputs": [],
   "source": []
  }
 ],
 "metadata": {
  "kernelspec": {
   "display_name": "Python 3",
   "language": "python",
   "name": "python3"
  },
  "language_info": {
   "codemirror_mode": {
    "name": "ipython",
    "version": 3
   },
   "file_extension": ".py",
   "mimetype": "text/x-python",
   "name": "python",
   "nbconvert_exporter": "python",
   "pygments_lexer": "ipython3",
   "version": "3.7.3"
  }
 },
 "nbformat": 4,
 "nbformat_minor": 2
}
