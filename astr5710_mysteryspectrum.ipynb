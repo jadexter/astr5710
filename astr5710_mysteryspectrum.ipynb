{
 "cells": [
  {
   "cell_type": "code",
   "execution_count": null,
   "metadata": {
    "scrolled": false
   },
   "outputs": [],
   "source": [
    "%matplotlib inline\n",
    "import matplotlib.pyplot as plt\n",
    "import numpy as np\n",
    "from astropy.io import ascii\n",
    "from scipy.special import gamma\n",
    "\n",
    "# plotting options\n",
    "import matplotlib as mpl\n",
    "mpl.rc('font',**{'family':'sans-serif','size':14})\n",
    "mpl.rcParams['xtick.direction'] = 'in'\n",
    "mpl.rcParams['ytick.direction'] = 'in'"
   ]
  },
  {
   "cell_type": "code",
   "execution_count": null,
   "metadata": {},
   "outputs": [],
   "source": [
    "e=4.8e-10\n",
    "m=9.11e-28\n",
    "c=3e10\n",
    "\n",
    "def A(p):\n",
    "    return 2**(p-3./2.)*(p+7./3.)/(p+1.)*gamma(p/4.+7./12.)*gamma(p/4.-1./12)\n",
    "\n",
    "def synchpl(n,B,gmin,gmax,p,sinalpha,nu):\n",
    "    nub=e*B/2./np.pi/m/c\n",
    "    return np.sqrt(3.)*n*e**2.*(p-1)*nub*sinalpha/4./c/(gmin**(1-p)-gmax**(1-p))*(nu/(3./2.)*nub*sinalpha)**(-(p-1)/2.)*A(p)"
   ]
  },
  {
   "cell_type": "markdown",
   "metadata": {},
   "source": [
    "# Analyze a mystery object's power law synchrotron spectrum"
   ]
  },
  {
   "cell_type": "markdown",
   "metadata": {},
   "source": [
    "## Spectrum\n",
    "\n",
    "The object's angular size at 86 GHz is $\\sim 0.01$ mas ($\\simeq 5x10^{-11}$ rad), in an observation where flux density $F_\\nu = 0.235$ Jy with $1$ Jy = $10^{-23}$ erg cm$^{-2}$ s$^{-1}$, and it is at a distance $D = 140$ Mpc from Earth"
   ]
  },
  {
   "cell_type": "code",
   "execution_count": null,
   "metadata": {},
   "outputs": [],
   "source": [
    "# load data\n",
    "data = ascii.read('astr5710_mysteryobject1.csv',format='csv')\n",
    "\n",
    "plt.figure(figsize=(8,6))\n",
    "plt.loglog(data['nu'],data['nuFnu'],marker='o',linestyle='')\n",
    "plt.xlabel(r'frequency $\\nu$ (Hz)',fontsize=16); plt.ylabel(r'monochromatic flux $\\nu F_\\nu$ (erg cm$^{-2}$ s$^{-1}$)',fontsize=16)"
   ]
  },
  {
   "cell_type": "markdown",
   "metadata": {},
   "source": [
    "## 1. What values of p do you see at low and high frequencies? What range of e- energies is present (e.g. what is $\\gamma_{\\rm max}/\\gamma_{\\rm min}$ for each power law)?"
   ]
  },
  {
   "cell_type": "code",
   "execution_count": null,
   "metadata": {},
   "outputs": [],
   "source": []
  },
  {
   "cell_type": "markdown",
   "metadata": {},
   "source": [
    "## 2. Brightness temperature\n",
    "\n",
    "Calculate the observed brightness temperature, assuming the source is a sphere\n",
    "\n",
    "$$T_b = \\frac{c^2 I_\\nu}{2 k \\nu^2}$$"
   ]
  },
  {
   "cell_type": "code",
   "execution_count": null,
   "metadata": {},
   "outputs": [],
   "source": []
  },
  {
   "cell_type": "markdown",
   "metadata": {},
   "source": [
    "## 3. Magnetic field estimate\n",
    "\n",
    "A power law synchrotron spectrum is composed of the sum of contributions from electrons of different energies. A useful approximation is that each observed frequency is mostly produced by electrons whose Lorentz factor $\\gamma$ is such that $\\nu_c(\\gamma) = \\nu$.\n",
    "\n",
    "Show that for a single electron, this approximation allows an estimate of the magnetic field strength $B$ when $\\gamma$ is known. Using $\\gamma m_e c^2 \\approx 3 k T$ and setting $T = T_b$ from the previous part, estimate the magnetic field strength of the mystery object. You can assume that $\\sin \\alpha = 1/2$.\n",
    "\n",
    "Given that brightness temperature is a lower limit to the true temperature, how does this estimate of $B$ compare to the actual value?"
   ]
  },
  {
   "cell_type": "code",
   "execution_count": null,
   "metadata": {},
   "outputs": [],
   "source": []
  },
  {
   "cell_type": "markdown",
   "metadata": {},
   "source": [
    "## 4. What are the minimum and maximum electron energies present?\n",
    "\n",
    "Use the observed spectrum and your estimate for $B$ to calculate the cutoff Lorentz factor, $\\gamma_{\\rm max}$. Further assume that the lowest measured frequency corresponds to $\\nu_c(\\gamma_{\\rm min})$, and estimate $\\gamma_{\\rm min}$."
   ]
  },
  {
   "cell_type": "code",
   "execution_count": null,
   "metadata": {},
   "outputs": [],
   "source": []
  },
  {
   "cell_type": "markdown",
   "metadata": {},
   "source": [
    "## 5. Particle density estimate\n",
    "\n",
    "Finally, use these parameters and the power law emissivity (the function jnupl above) along with your solution from Problem Set 1 for the flux density from a uniform, optically thin sphere to estimate the particle density $n_e$.\n",
    "\n",
    "For this estimate, you can use the source size $R$ at $\\nu = 86$ GHz and the corresponding values of $F_\\nu$ and $p$ from the source spectrum."
   ]
  },
  {
   "cell_type": "code",
   "execution_count": null,
   "metadata": {},
   "outputs": [],
   "source": []
  },
  {
   "cell_type": "markdown",
   "metadata": {},
   "source": [
    "## 6. What is the mystery object?\n",
    "\n",
    "Given the properties you've calculated, what can you say about the mystery object? What types of astronomical objects do you think it could be and why?"
   ]
  },
  {
   "cell_type": "code",
   "execution_count": null,
   "metadata": {},
   "outputs": [],
   "source": []
  }
 ],
 "metadata": {
  "kernelspec": {
   "display_name": "Python 3",
   "language": "python",
   "name": "python3"
  },
  "language_info": {
   "codemirror_mode": {
    "name": "ipython",
    "version": 3
   },
   "file_extension": ".py",
   "mimetype": "text/x-python",
   "name": "python",
   "nbconvert_exporter": "python",
   "pygments_lexer": "ipython3",
   "version": "3.7.3"
  }
 },
 "nbformat": 4,
 "nbformat_minor": 2
}
