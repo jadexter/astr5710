{
 "cells": [
  {
   "cell_type": "code",
   "execution_count": null,
   "metadata": {
    "scrolled": false
   },
   "outputs": [],
   "source": [
    "%matplotlib inline\n",
    "import matplotlib.pyplot as plt\n",
    "import numpy as np\n",
    "from astropy.io import ascii\n",
    "\n",
    "# plotting options\n",
    "import matplotlib as mpl\n",
    "mpl.rc('font',**{'family':'sans-serif','size':14})\n",
    "mpl.rcParams['xtick.direction'] = 'in'\n",
    "mpl.rcParams['ytick.direction'] = 'in'"
   ]
  },
  {
   "cell_type": "markdown",
   "metadata": {},
   "source": [
    "# Calculate blackbody accretion disk spectra"
   ]
  },
  {
   "cell_type": "markdown",
   "metadata": {},
   "source": [
    "## Effective temperature\n",
    "\n",
    "In class we calculated the emergent flux from one side of a thin accretion disk as a function of cylindrical radius $R > R_{\\rm in}$:\n",
    "\n",
    "$$F^- = \\frac{3 G M \\dot{M}}{8 \\pi R^3} \\left[ 1- \\left(\\frac{R_{\\rm in}}{R}\\right)^{1/2} \\right],$$\n",
    "\n",
    "where $R_{\\rm in}$ is the inner disk edge, $M$ is the black hole mass, and $\\dot{M}$ is the mass accretion rate.\n",
    "\n",
    "The effective (surface) temperature can be defined in terms of the emergent flux as $\\sigma_b T_{\\rm eff}^4 = F^-(R)$."
   ]
  },
  {
   "cell_type": "markdown",
   "metadata": {},
   "source": [
    "## 1. Disk surface temperature profile\n",
    "\n",
    "Write an expression for the radial profile of the effective temperature, $T_{\\rm eff} (R)$. Far from the inner boundary, how does this scale with radius?\n",
    "\n",
    "Given Wien's Law $\\lambda_{\\rm max} T = \\rm constant$, how does the typical wavelength radiated vary as a function of radius?"
   ]
  },
  {
   "cell_type": "code",
   "execution_count": null,
   "metadata": {},
   "outputs": [],
   "source": []
  },
  {
   "cell_type": "markdown",
   "metadata": {},
   "source": [
    "## 2. Temperature scalings with mass and Eddington ratio\n",
    "\n",
    "For black holes, the inner edge of a thin accretion disk can be written in terms of the gravitational radius, e.g. $R_{\\rm in} = 6 r_g = 6 GM/c^2$ for a non-spinning black hole.\n",
    "\n",
    "We can further replace the mass accretion rate $\\dot{M}$ with a dimensionless value $\\dot{m}$ and the Eddington luminosity $L_{\\rm Edd}(M)$ using the definition, $$\\dot{m} = \\frac{\\dot{M} c^2}{L_{\\rm Edd}(M)}.$$\n",
    "\n",
    "Finally, note from Problem Set 1 that $$L_{\\rm Edd} \\simeq 1.3 \\times 10^{38} \\frac{M}{M_{\\rm Sun}} \\, \\rm erg \\, \\rm s^{-1} \\propto \\it M.$$\n",
    "\n",
    "Using those definitions, define a Python function which calculates the disk effective temperature as a function of $\\dot{m}$, $M$ in units of $M_{\\rm Sun}$, and radius $R$ in units of $r_g$. (You are of course also welcome to derive an algebraic expression first, but the various constants get a little messy.)"
   ]
  },
  {
   "cell_type": "code",
   "execution_count": null,
   "metadata": {},
   "outputs": [],
   "source": [
    "# Stefan-Boltzmann and other constants in cgs units\n",
    "sigb=5.67e-5; c=3e10; G=6.67e-8; Msun=2e33\n",
    "\n",
    "# uncomment this and write your function here!\n",
    "def calc_Teff(M,mdot,r):\n",
    "    # example: calculate R and M in physical units from r and M\n",
    "    Mcgs=M*Msun\n",
    "    R=r*G*Mcgs/c**2.\n",
    "    # add more here for Mdot and Teff\n",
    "    # Mdot =\n",
    "    # Teff =\n",
    "    return Teff"
   ]
  },
  {
   "cell_type": "markdown",
   "metadata": {},
   "source": [
    "## 3. X-ray binaries and quasars\n",
    "\n",
    "Formally, the effective temperature goes to zero at the inner disk edge. (Why should this be based on our discussion from class?) \n",
    "\n",
    "Still, a characteristic maximum disk temperature corresponds to ignoring the term in brackets and setting $$\\sigma_b T_{\\rm max}^4 = \\frac{3 G M \\dot{M}}{8 \\pi R_{\\rm in}^3}.$$\n",
    "\n",
    "Fixing $\\dot{m} = 1$, what is the maximum temperature for $M = 10 M_{\\rm Sun}$ and $M = 10^8 M_{\\rm Sun}$? \n",
    "\n",
    "Using e.g. Wien's law, at what wavelength bands do you expect black holes of those masses to radiate most their energy? \n",
    "\n",
    "Qualitatively, why does the disk temperature behave this way as a function of mass?"
   ]
  },
  {
   "cell_type": "code",
   "execution_count": null,
   "metadata": {},
   "outputs": [],
   "source": []
  },
  {
   "cell_type": "markdown",
   "metadata": {},
   "source": [
    "## 4. Blackbody disk spectra\n",
    "\n",
    "We can calculate a simple model for an accretion disk spectrum by assuming that each annulus (narrow ring centered on radius $R$) radiates according to the Planck spectrum at $T_{\\rm eff} (R)$:\n",
    "\n",
    "$$F_\\nu (R) = \\pi I_\\nu (R) = \\pi B_\\nu(R)$$.\n",
    "\n",
    "Using the function $B_\\nu$ below, plot sample disk luminosities $dL_\\nu/dR = 2 \\times 2\\pi R \\times F_\\nu(R)$ at $R = 10 r_g$, $20 r_g$, and $40 r_g$ for a disk around a stellar mass black hole where $\\dot{m}=1$, $M = 10 M_{\\rm Sun}$."
   ]
  },
  {
   "cell_type": "code",
   "execution_count": null,
   "metadata": {},
   "outputs": [],
   "source": [
    "# Planck spectrum in terms of frequency \\nu and temperature T\n",
    "h=6.63e-27; c=3e10; k=1.38e-16; Msun=2e33; G=6.67e-8; sigb=5.67e-5\n",
    "\n",
    "# our parameters\n",
    "M=10.; mdot=1.\n",
    "\n",
    "def bnu(nu,T):\n",
    "    x=h*nu/k/T\n",
    "    return 2.*h*nu**3./c**2./(np.exp(x)-1.)\n",
    "\n",
    "# define a grid of frequencies\n",
    "nu=3e15*10**(np.arange(50)/49.*3.)\n",
    "rvals=[10.,20.,40.]; dLnudR=[]\n",
    "\n",
    "# physical units for M, Mdot\n",
    "LEdd=1.3e38*M; Mcgs=M*Msun\n",
    "Mdot=mdot*LEdd/c**2.\n",
    "rg=G*Mcgs/c**2.\n",
    "\n",
    "colors=['C0','C1','C4']\n",
    "for r,color in zip(rvals,colors):\n",
    "    ## radius R in cgs units ##\n",
    "    R = r*rg\n",
    "    ## calculate temeprature, flux, dL/dR here and uncomment lines below! ##\n",
    "#    T=calc_Teff()\n",
    "#    Lnu_result=\n",
    "#    dLnudR.append(Lnu_result)\n",
    "#    plt.loglog(nu,nu*R*Lnu_result,label='x = '+str(int(r)),color=color)\n",
    "plt.ylim(1e33,1e38)\n",
    "plt.legend()\n",
    "plt.xlabel(r'frequency $\\nu$ (Hz)'); plt.ylabel(r'luminosity $\\nu L_{\\rm \\nu}$ (erg s$^{-1}$)')"
   ]
  },
  {
   "cell_type": "markdown",
   "metadata": {},
   "source": [
    "## 5. Full disk spectrum\n",
    "\n",
    "Finally, integrate your result to get the specific luminosity $$L_\\nu = \\int_{R_{\\rm in}}^{R_{\\rm out}} dR \\frac{dL_\\nu}{dR},$$\n",
    "\n",
    "where $R_{\\rm out} = 300 r_g$ is some suitably large radius.\n",
    "\n",
    "You are free to carry out the integral however you'd like (e.g., np.trapz or a scipy routine or anything else). One straightforward way is to write it as a sum, $$L_\\nu \\approx \\Sigma_i \\Delta R_i \\left(dL_\\nu/dR\\right)_i = \\Delta \\log R \\, \\, \\Sigma_i R_i \\left(dL_\\nu/dR\\right)_i,$$\n",
    "\n",
    "where the last sum uses evenly spaced annuli in $\\log R$. \n",
    "\n",
    "Plot your result for $\\nu L_\\nu$ along with the sample black hole X-ray binary spectrum shown below. In what ways does it look similar and different?"
   ]
  },
  {
   "cell_type": "code",
   "execution_count": null,
   "metadata": {},
   "outputs": [],
   "source": []
  },
  {
   "cell_type": "code",
   "execution_count": null,
   "metadata": {},
   "outputs": [],
   "source": [
    "data = ascii.read('steiner2011_thermalbhb.csv',format='csv')\n",
    "plt.loglog(data['Ekev']*2.41e17,data['fEkev']*1e37,color='k',marker='o')\n",
    "\n",
    "## add your plot here! ##\n",
    "#plt.loglog(nu,nu*lnu)\n",
    "\n",
    "plt.xlabel(r'frequency $\\nu$ (Hz)'); plt.ylabel(r'luminosity $\\nu L_{\\rm \\nu}$ (erg s$^{-1}$)')\n",
    "plt.xlim(3e16,5e18); plt.ylim(1e36,3e38)"
   ]
  },
  {
   "cell_type": "code",
   "execution_count": null,
   "metadata": {},
   "outputs": [],
   "source": []
  }
 ],
 "metadata": {
  "kernelspec": {
   "display_name": "Python 3",
   "language": "python",
   "name": "python3"
  },
  "language_info": {
   "codemirror_mode": {
    "name": "ipython",
    "version": 3
   },
   "file_extension": ".py",
   "mimetype": "text/x-python",
   "name": "python",
   "nbconvert_exporter": "python",
   "pygments_lexer": "ipython3",
   "version": "3.7.3"
  }
 },
 "nbformat": 4,
 "nbformat_minor": 2
}
