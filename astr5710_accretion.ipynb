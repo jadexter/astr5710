{
 "cells": [
  {
   "cell_type": "code",
   "execution_count": null,
   "metadata": {
    "scrolled": false
   },
   "outputs": [],
   "source": [
    "%matplotlib inline\n",
    "import matplotlib.pyplot as plt\n",
    "import numpy as np\n",
    "from astropy.io import ascii\n",
    "import matplotlib.image as mpimg"
   ]
  },
  {
   "cell_type": "markdown",
   "metadata": {},
   "source": [
    "##  what does it mean for an accretion disk to be \"thin\"?\n",
    "\n",
    "In the thin disk approximation of accretion theory, we decouple the vertical and radial components of the force of gravity on a fluid element in the disk. The vertical hydrostatic equilibrium equation is then (assuming no net vertical motion):\n",
    "\n",
    "$$\\frac{dP}{dz} = -\\frac{GM\\rho}{R^2} \\frac{z}{R},$$\n",
    "\n",
    "where $P$ is the pressure, $\\rho$ is the mass density, $R$ is the cylindrical radius, and $z$ is the height."
   ]
  },
  {
   "cell_type": "markdown",
   "metadata": {},
   "source": [
    "### 1. Scale height\n",
    "\n",
    "By averaging both sides of the vertical hydrostatic equilibrium equation from a height $z = 0$ to $z = H$ (so the derivative $dP/dz \\approx \\Delta P / H$), write an expression for the scale height (relative disk thickness) $H/R$."
   ]
  },
  {
   "cell_type": "code",
   "execution_count": null,
   "metadata": {},
   "outputs": [],
   "source": []
  },
  {
   "cell_type": "markdown",
   "metadata": {},
   "source": [
    "### 2. Temperature\n",
    "\n",
    "Assuming that the disk is supported vertically by gas pressure $P = n k T$, and using a polytropic equation of state $P = K \\rho^\\Gamma$ with constant index $\\Gamma$, derive an equation for the vertically averaged gas temperature as a function of cylindrical radius and scale height.\n",
    "\n",
    "For black holes, a characteristic length scale is the gravitational radius, $r_g = GM/c^2$. Re-write your equation in terms of a dimensionless distance $R / r_g$.\n",
    "\n",
    "A typical interior temperature of an accretion disk around a stellar mass black hole or neutron star is $\\simeq 10^7$ K. Approximately what is the scale height $H/R$ of such a disk at small radius ($R \\simeq 6 r_g$)?\n",
    "\n",
    "A similar derivation for a spherical star results in a typical interior (\"virial\") temperature of $$k T_{\\rm vir} \\simeq \\frac{3 GM m_p}{10 R_*},$$ with $R_*$ the stellar radius. How does the result change when considering a disk?"
   ]
  },
  {
   "cell_type": "code",
   "execution_count": null,
   "metadata": {},
   "outputs": [],
   "source": []
  },
  {
   "cell_type": "markdown",
   "metadata": {},
   "source": [
    "### 3. Sound speed\n",
    "\n",
    "Using the definition of the sound speed and with the same equation of state as in problem 1, write an equation for the disk scale height in terms of the sound speed $c_s$ and the circular orbital frequency around a point mass $M$, $\\Omega^2 = GM/R^3$.\n"
   ]
  },
  {
   "cell_type": "code",
   "execution_count": null,
   "metadata": {},
   "outputs": [],
   "source": []
  },
  {
   "cell_type": "markdown",
   "metadata": {},
   "source": [
    "### 4. Summary\n",
    "\n",
    "Using your results, explain in words what it means for a disk to be geometrically thin ($H/R \\ll 1$)."
   ]
  },
  {
   "cell_type": "code",
   "execution_count": null,
   "metadata": {},
   "outputs": [],
   "source": []
  }
 ],
 "metadata": {
  "kernelspec": {
   "display_name": "Python 3",
   "language": "python",
   "name": "python3"
  },
  "language_info": {
   "codemirror_mode": {
    "name": "ipython",
    "version": 3
   },
   "file_extension": ".py",
   "mimetype": "text/x-python",
   "name": "python",
   "nbconvert_exporter": "python",
   "pygments_lexer": "ipython3",
   "version": "3.7.3"
  }
 },
 "nbformat": 4,
 "nbformat_minor": 2
}
